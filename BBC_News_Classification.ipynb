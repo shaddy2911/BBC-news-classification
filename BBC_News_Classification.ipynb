{
  "nbformat": 4,
  "nbformat_minor": 0,
  "metadata": {
    "colab": {
      "name": "BBC News_Classification.ipynb",
      "provenance": [],
      "collapsed_sections": [],
      "authorship_tag": "ABX9TyNryx5lnlM/yk+bWC2eHwm1"
    },
    "kernelspec": {
      "name": "python3",
      "display_name": "Python 3"
    },
    "language_info": {
      "name": "python"
    }
  },
  "cells": [
    {
      "cell_type": "code",
      "execution_count": 46,
      "metadata": {
        "id": "uhKxoj38D6N1"
      },
      "outputs": [],
      "source": [
        "import numpy as np\n",
        "import pandas as pd\n",
        "import seaborn as sns\n",
        "import matplotlib.pyplot as plt\n",
        "from sklearn.model_selection import train_test_split\n",
        "from sklearn.feature_extraction.text import TfidfTransformer"
      ]
    },
    {
      "cell_type": "markdown",
      "source": [
        "# EDA "
      ],
      "metadata": {
        "id": "wgbxPll2z2eO"
      }
    },
    {
      "cell_type": "code",
      "source": [
        "df=pd.read_csv('/content/bbc-text.csv')"
      ],
      "metadata": {
        "id": "87zrHQuWEd_r"
      },
      "execution_count": 47,
      "outputs": []
    },
    {
      "cell_type": "code",
      "source": [
        "print('SHAPE OF DATASET: ', df.shape, '\\n\\nCOLUMNS IN DATASET: ', df.columns, '\\n\\nCATEGORIES: ', df.category.unique(), '\\n\\nDATA SAMPLE: \\n\\n', df.sample(n=5), '\\n\\n')\n",
        "\n",
        "\n",
        "print('NUMBER OF SAMPLES IN EACH CATEGORY: \\n')\n",
        "sns.countplot(df.category)"
      ],
      "metadata": {
        "colab": {
          "base_uri": "https://localhost:8080/",
          "height": 675
        },
        "id": "ZCeL9pXxElRl",
        "outputId": "d897e9cb-def5-489a-94f7-c01c0e3234f3"
      },
      "execution_count": 48,
      "outputs": [
        {
          "output_type": "stream",
          "name": "stdout",
          "text": [
            "SHAPE OF DATASET:  (2225, 2) \n",
            "\n",
            "COLUMNS IN DATASET:  Index(['category', 'text'], dtype='object') \n",
            "\n",
            "CATEGORIES:  ['tech' 'business' 'sport' 'entertainment' 'politics'] \n",
            "\n",
            "DATA SAMPLE: \n",
            "\n",
            "            category                                               text\n",
            "521            tech  bt offers free net phone calls bt is offering ...\n",
            "2069          sport  ferguson puts faith in youngsters manchester u...\n",
            "1164       business  cactus diet deal for phytopharm a slimming aid...\n",
            "966        business  italy to get economic action plan italian prim...\n",
            "1047  entertainment  uk directors guild nominees named martin scors... \n",
            "\n",
            "\n",
            "NUMBER OF SAMPLES IN EACH CATEGORY: \n",
            "\n"
          ]
        },
        {
          "output_type": "stream",
          "name": "stderr",
          "text": [
            "/usr/local/lib/python3.7/dist-packages/seaborn/_decorators.py:43: FutureWarning: Pass the following variable as a keyword arg: x. From version 0.12, the only valid positional argument will be `data`, and passing other arguments without an explicit keyword will result in an error or misinterpretation.\n",
            "  FutureWarning\n"
          ]
        },
        {
          "output_type": "execute_result",
          "data": {
            "text/plain": [
              "<matplotlib.axes._subplots.AxesSubplot at 0x7fdb98a26a50>"
            ]
          },
          "metadata": {},
          "execution_count": 48
        },
        {
          "output_type": "display_data",
          "data": {
            "image/png": "[encoded data removed]",
            "text/plain": [
              "<Figure size 432x288 with 1 Axes>"
            ]
          },
          "metadata": {
            "needs_background": "light"
          }
        }
      ]
    },
    {
      "cell_type": "code",
      "source": [
        "df.isnull().sum()"
      ],
      "metadata": {
        "colab": {
          "base_uri": "https://localhost:8080/"
        },
        "id": "dCJOXgewErgi",
        "outputId": "6c296dce-58d5-4758-cdeb-3b2961340814"
      },
      "execution_count": 49,
      "outputs": [
        {
          "output_type": "execute_result",
          "data": {
            "text/plain": [
              "category    0\n",
              "text        0\n",
              "dtype: int64"
            ]
          },
          "metadata": {},
          "execution_count": 49
        }
      ]
    },
    {
      "cell_type": "code",
      "source": [
        "df['category'].value_counts()"
      ],
      "metadata": {
        "colab": {
          "base_uri": "https://localhost:8080/"
        },
        "id": "wvwwCrq4ExpE",
        "outputId": "adfb95c7-1aa2-4c85-acfa-4da17fb01cce"
      },
      "execution_count": 50,
      "outputs": [
        {
          "output_type": "execute_result",
          "data": {
            "text/plain": [
              "sport            511\n",
              "business         510\n",
              "politics         417\n",
              "tech             401\n",
              "entertainment    386\n",
              "Name: category, dtype: int64"
            ]
          },
          "metadata": {},
          "execution_count": 50
        }
      ]
    },
    {
      "cell_type": "markdown",
      "source": [
        "# SVC Classifier Model"
      ],
      "metadata": {
        "id": "YQX0WST-0Cdp"
      }
    },
    {
      "cell_type": "code",
      "source": [
        "x=df['text']"
      ],
      "metadata": {
        "id": "YaIbpuJ6FZxY"
      },
      "execution_count": 51,
      "outputs": []
    },
    {
      "cell_type": "code",
      "source": [
        "y=df['category']"
      ],
      "metadata": {
        "id": "sqRkmzGKGIBj"
      },
      "execution_count": 52,
      "outputs": []
    },
    {
      "cell_type": "code",
      "source": [
        "x_train,x_test,y_train,y_test=train_test_split(x,y,test_size=0.3,random_state=10)"
      ],
      "metadata": {
        "id": "CKT67s3mGWxd"
      },
      "execution_count": 53,
      "outputs": []
    },
    {
      "cell_type": "code",
      "source": [
        "!pip install pipeline\n"
      ],
      "metadata": {
        "colab": {
          "base_uri": "https://localhost:8080/"
        },
        "id": "AiFJ3B24J3-O",
        "outputId": "b56c8cc1-66e7-4f9e-e82a-53e9e082f698"
      },
      "execution_count": 57,
      "outputs": [
        {
          "output_type": "stream",
          "name": "stdout",
          "text": [
            "Requirement already satisfied: pipeline in /usr/local/lib/python3.7/dist-packages (0.1.0)\n"
          ]
        }
      ]
    },
    {
      "cell_type": "code",
      "source": [
        "from sklearn.pipeline import Pipeline"
      ],
      "metadata": {
        "id": "R9AwiGPVOjtE"
      },
      "execution_count": 58,
      "outputs": []
    },
    {
      "cell_type": "code",
      "source": [
        "from sklearn.feature_extraction.text import TfidfVectorizer\n",
        "from sklearn.svm import SVC\n"
      ],
      "metadata": {
        "id": "BT2wKj4BPBJa"
      },
      "execution_count": 59,
      "outputs": []
    },
    {
      "cell_type": "code",
      "source": [
        "text_clf=Pipeline([('tfidf',TfidfVectorizer()),('clf_SVC',SVC())])"
      ],
      "metadata": {
        "id": "MgTy2zTJOrk1"
      },
      "execution_count": 60,
      "outputs": []
    },
    {
      "cell_type": "code",
      "source": [
        "text_clf.fit(x_train,y_train)"
      ],
      "metadata": {
        "colab": {
          "base_uri": "https://localhost:8080/"
        },
        "id": "MfIzWmOTQlWP",
        "outputId": "404ec46e-da37-42b0-bb1b-18ebc3c80f98"
      },
      "execution_count": 61,
      "outputs": [
        {
          "output_type": "execute_result",
          "data": {
            "text/plain": [
              "Pipeline(steps=[('tfidf', TfidfVectorizer()), ('clf_SVC', SVC())])"
            ]
          },
          "metadata": {},
          "execution_count": 61
        }
      ]
    },
    {
      "cell_type": "code",
      "source": [
        "predictions=text_clf.predict(x_test)"
      ],
      "metadata": {
        "id": "nhSGiDoktMbM"
      },
      "execution_count": 62,
      "outputs": []
    },
    {
      "cell_type": "code",
      "source": [
        "from sklearn.metrics import confusion_matrix,classification_report"
      ],
      "metadata": {
        "id": "iZeCqn8ptWOd"
      },
      "execution_count": 63,
      "outputs": []
    },
    {
      "cell_type": "code",
      "source": [
        "print(classification_report(y_test,predictions))"
      ],
      "metadata": {
        "colab": {
          "base_uri": "https://localhost:8080/"
        },
        "id": "fpT-96CquDx5",
        "outputId": "1ae17e01-e5bd-436e-ed04-28d13a5e862a"
      },
      "execution_count": 65,
      "outputs": [
        {
          "output_type": "stream",
          "name": "stdout",
          "text": [
            "               precision    recall  f1-score   support\n",
            "\n",
            "     business       0.93      0.98      0.96       160\n",
            "entertainment       0.98      0.95      0.96       112\n",
            "     politics       0.98      0.92      0.95       131\n",
            "        sport       0.99      0.99      0.99       146\n",
            "         tech       0.97      1.00      0.98       119\n",
            "\n",
            "     accuracy                           0.97       668\n",
            "    macro avg       0.97      0.97      0.97       668\n",
            " weighted avg       0.97      0.97      0.97       668\n",
            "\n"
          ]
        }
      ]
    },
    {
      "cell_type": "code",
      "source": [
        "from sklearn import metrics"
      ],
      "metadata": {
        "id": "Mus7Fe0QuZsn"
      },
      "execution_count": 66,
      "outputs": []
    },
    {
      "cell_type": "code",
      "source": [
        "print(metrics.accuracy_score(y_test,predictions)*100)"
      ],
      "metadata": {
        "colab": {
          "base_uri": "https://localhost:8080/"
        },
        "id": "96lMAaW5uf-a",
        "outputId": "2f043c35-71a2-485b-ee82-02c18605eed5"
      },
      "execution_count": 67,
      "outputs": [
        {
          "output_type": "stream",
          "name": "stdout",
          "text": [
            "97.0059880239521\n"
          ]
        }
      ]
    },
    {
      "cell_type": "code",
      "source": [
        "text_clf.predict(['Apple to build factory in Hong Kong'])"
      ],
      "metadata": {
        "colab": {
          "base_uri": "https://localhost:8080/"
        },
        "id": "G6t8WhNPwlCa",
        "outputId": "4f9324e4-af83-4aa6-c9d8-6ed2bcd19ffc"
      },
      "execution_count": 70,
      "outputs": [
        {
          "output_type": "execute_result",
          "data": {
            "text/plain": [
              "array(['business'], dtype=object)"
            ]
          },
          "metadata": {},
          "execution_count": 70
        }
      ]
    },
    {
      "cell_type": "markdown",
      "source": [
        "# Multinominal Naive Baye's Model"
      ],
      "metadata": {
        "id": "SRjfn_lx0QT0"
      }
    },
    {
      "cell_type": "code",
      "source": [
        "from sklearn.naive_bayes import MultinomialNB"
      ],
      "metadata": {
        "id": "gOFOqxy-yfIL"
      },
      "execution_count": 71,
      "outputs": []
    },
    {
      "cell_type": "code",
      "source": [
        "text_clf1=Pipeline([('tfidf',TfidfVectorizer()),('clf_MNB',MultinomialNB())])"
      ],
      "metadata": {
        "id": "HUB78y47w3S0"
      },
      "execution_count": 72,
      "outputs": []
    },
    {
      "cell_type": "code",
      "source": [
        "text_clf1.fit(x_train,y_train)"
      ],
      "metadata": {
        "colab": {
          "base_uri": "https://localhost:8080/"
        },
        "id": "_4oU4uWWysgn",
        "outputId": "23ab8294-8b61-4dbf-dad5-d4bc103fbfcf"
      },
      "execution_count": 73,
      "outputs": [
        {
          "output_type": "execute_result",
          "data": {
            "text/plain": [
              "Pipeline(steps=[('tfidf', TfidfVectorizer()), ('clf_MNB', MultinomialNB())])"
            ]
          },
          "metadata": {},
          "execution_count": 73
        }
      ]
    },
    {
      "cell_type": "code",
      "source": [
        "predictions_mnb=text_clf1.predict(x_test)"
      ],
      "metadata": {
        "id": "sHyUKnKvyyPS"
      },
      "execution_count": 74,
      "outputs": []
    },
    {
      "cell_type": "code",
      "source": [
        "print(classification_report(y_test,predictions_mnb))"
      ],
      "metadata": {
        "colab": {
          "base_uri": "https://localhost:8080/"
        },
        "id": "BSFz2lvozJJB",
        "outputId": "f845e422-7cd4-400e-d33d-a6231230cf42"
      },
      "execution_count": 78,
      "outputs": [
        {
          "output_type": "stream",
          "name": "stdout",
          "text": [
            "               precision    recall  f1-score   support\n",
            "\n",
            "     business       0.95      0.97      0.96       160\n",
            "entertainment       1.00      0.85      0.92       112\n",
            "     politics       0.93      0.95      0.94       131\n",
            "        sport       0.93      0.99      0.96       146\n",
            "         tech       0.96      0.97      0.97       119\n",
            "\n",
            "     accuracy                           0.95       668\n",
            "    macro avg       0.95      0.95      0.95       668\n",
            " weighted avg       0.95      0.95      0.95       668\n",
            "\n"
          ]
        }
      ]
    },
    {
      "cell_type": "code",
      "source": [
        "print(metrics.accuracy_score(y_test,predictions_mnb)*100)\n"
      ],
      "metadata": {
        "colab": {
          "base_uri": "https://localhost:8080/"
        },
        "id": "0tocRsBOzWlG",
        "outputId": "34d66029-ae14-425b-a85b-d41f2baa8bc1"
      },
      "execution_count": 79,
      "outputs": [
        {
          "output_type": "stream",
          "name": "stdout",
          "text": [
            "95.05988023952095\n"
          ]
        }
      ]
    }
  ]
}